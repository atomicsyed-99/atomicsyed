{
  "nbformat": 4,
  "nbformat_minor": 0,
  "metadata": {
    "kernelspec": {
      "display_name": "Python 3",
      "language": "python",
      "name": "python3"
    },
    "language_info": {
      "codemirror_mode": {
        "name": "ipython",
        "version": 3
      },
      "file_extension": ".py",
      "mimetype": "text/x-python",
      "name": "python",
      "nbconvert_exporter": "python",
      "pygments_lexer": "ipython3",
      "version": "3.7.4"
    },
    "colab": {
      "name": "Major Project.ipynb",
      "provenance": [],
      "include_colab_link": true
    }
  },
  "cells": [
    {
      "cell_type": "markdown",
      "metadata": {
        "id": "view-in-github",
        "colab_type": "text"
      },
      "source": [
        "<a href=\"https://colab.research.google.com/github/atomicsyed-99/atomicsyed/blob/master/Major_Project.ipynb\" target=\"_parent\"><img src=\"https://colab.research.google.com/assets/colab-badge.svg\" alt=\"Open In Colab\"/></a>"
      ]
    },
    {
      "cell_type": "markdown",
      "metadata": {
        "id": "ZbaVbrbwcT_o"
      },
      "source": [
        "# MAJOR PROJECT"
      ]
    },
    {
      "cell_type": "markdown",
      "metadata": {
        "id": "q1nr-451cT_p"
      },
      "source": [
        "> The primary goal of the project is to perform data cleaning, exploratory data analysis, using different Machine Learning Algorithms, solving problems "
      ]
    },
    {
      "cell_type": "markdown",
      "metadata": {
        "id": "t3Di3rVzcT_q"
      },
      "source": [
        "## Table Of Contents"
      ]
    },
    {
      "cell_type": "markdown",
      "metadata": {
        "id": "iVWAa7HgcT_q"
      },
      "source": [
        "- Introduction\n",
        "- Data Wrangling\n",
        "- Solving Problems\n",
        "- Comparing Accuracy\n",
        "- Conclusion"
      ]
    },
    {
      "cell_type": "markdown",
      "metadata": {
        "id": "W85U2lg2cT_r"
      },
      "source": [
        "## Introduction"
      ]
    },
    {
      "cell_type": "markdown",
      "metadata": {
        "id": "acZHQxOGcT_r"
      },
      "source": [
        "### Dataset"
      ]
    },
    {
      "cell_type": "markdown",
      "metadata": {
        "id": "_VWq6-7UcT_s"
      },
      "source": [
        "- The Twitter dataset is provided for solving the problems. Gender feature is the target variable and we need to predict it. This data set contains information about 20,500 tweets collected from twitter."
      ]
    },
    {
      "cell_type": "markdown",
      "metadata": {
        "id": "YyPM5xFPcT_t"
      },
      "source": [
        "> #### Contains\n",
        "- Total Rows = 20500\n",
        "- Total Columns = 26\n",
        "- After Seeing the dataset we can say that some columns contains null values"
      ]
    },
    {
      "cell_type": "markdown",
      "metadata": {
        "id": "aq-n9ItHcT_t"
      },
      "source": [
        "### Questions"
      ]
    },
    {
      "cell_type": "markdown",
      "metadata": {
        "id": "uPUzHXzLcT_u"
      },
      "source": [
        "> 1. What are the most common emotions/words used by Males and Females?\n",
        " >2.how well do stylistic factors (like link color and sidebar color) predict user gender?\n",
        " >3. Which gender makes more typos in their tweets?\n",
        " >4. Algorithms Accuracy Calculation "
      ]
    },
    {
      "cell_type": "code",
      "metadata": {
        "id": "eRQgmKwLcT_u"
      },
      "source": [
        "import numpy as np # linear algebra\n",
        "import pandas as pd # data processing, CSV file I/O (e.g. pd.read_csv)\n",
        "\n",
        "# we'll want this for plotting\n",
        "import matplotlib.pyplot as plt\n",
        "import seaborn as sns\n",
        "\n",
        "# we'll want this for text manipulation\n",
        "import re\n",
        "\n",
        "# the Naive Bayes model\n",
        "from sklearn.naive_bayes import MultinomialNB\n",
        "# function to split the data for cross-validation\n",
        "from sklearn.model_selection import train_test_split\n",
        "# function for transforming documents into counts\n",
        "from sklearn.feature_extraction.text import CountVectorizer \n",
        "# function for encoding categories\n",
        "from sklearn.preprocessing import LabelEncoder"
      ],
      "execution_count": null,
      "outputs": []
    },
    {
      "cell_type": "markdown",
      "metadata": {
        "id": "isbtyBjDcT_x"
      },
      "source": [
        "## Data Wrangling"
      ]
    },
    {
      "cell_type": "markdown",
      "metadata": {
        "id": "xZMfp1kAcT_y"
      },
      "source": [
        "> After Observing the dataset and the questions related to this dataset for the analysis we will be keeping only relevent data and deleting the unused data"
      ]
    },
    {
      "cell_type": "markdown",
      "metadata": {
        "id": "0L7n6JO-cT_y"
      },
      "source": [
        "### General Properties"
      ]
    },
    {
      "cell_type": "code",
      "metadata": {
        "id": "JpXWdn_mcT_z",
        "outputId": "78326f38-6bfb-4497-b7f7-0c632c673cc6"
      },
      "source": [
        "df = pd.read_csv('Information.csv',encoding='latin1')# reading the dataset using pandas\n",
        "df.head()# checking the first 5 rows of the dataset"
      ],
      "execution_count": null,
      "outputs": [
        {
          "output_type": "execute_result",
          "data": {
            "text/html": [
              "<div>\n",
              "<style scoped>\n",
              "    .dataframe tbody tr th:only-of-type {\n",
              "        vertical-align: middle;\n",
              "    }\n",
              "\n",
              "    .dataframe tbody tr th {\n",
              "        vertical-align: top;\n",
              "    }\n",
              "\n",
              "    .dataframe thead th {\n",
              "        text-align: right;\n",
              "    }\n",
              "</style>\n",
              "<table border=\"1\" class=\"dataframe\">\n",
              "  <thead>\n",
              "    <tr style=\"text-align: right;\">\n",
              "      <th></th>\n",
              "      <th>_unit_id</th>\n",
              "      <th>_golden</th>\n",
              "      <th>_unit_state</th>\n",
              "      <th>_trusted_judgments</th>\n",
              "      <th>_last_judgment_at</th>\n",
              "      <th>gender</th>\n",
              "      <th>gender:confidence</th>\n",
              "      <th>profile_yn</th>\n",
              "      <th>profile_yn:confidence</th>\n",
              "      <th>created</th>\n",
              "      <th>...</th>\n",
              "      <th>profileimage</th>\n",
              "      <th>retweet_count</th>\n",
              "      <th>sidebar_color</th>\n",
              "      <th>text</th>\n",
              "      <th>tweet_coord</th>\n",
              "      <th>tweet_count</th>\n",
              "      <th>tweet_created</th>\n",
              "      <th>tweet_id</th>\n",
              "      <th>tweet_location</th>\n",
              "      <th>user_timezone</th>\n",
              "    </tr>\n",
              "  </thead>\n",
              "  <tbody>\n",
              "    <tr>\n",
              "      <td>0</td>\n",
              "      <td>815719226</td>\n",
              "      <td>False</td>\n",
              "      <td>finalized</td>\n",
              "      <td>3</td>\n",
              "      <td>10/26/15 23:24</td>\n",
              "      <td>male</td>\n",
              "      <td>1.0000</td>\n",
              "      <td>yes</td>\n",
              "      <td>1.0</td>\n",
              "      <td>12/5/13 1:48</td>\n",
              "      <td>...</td>\n",
              "      <td>https://pbs.twimg.com/profile_images/414342229...</td>\n",
              "      <td>0</td>\n",
              "      <td>FFFFFF</td>\n",
              "      <td>Robbie E Responds To Critics After Win Against...</td>\n",
              "      <td>NaN</td>\n",
              "      <td>110964</td>\n",
              "      <td>10/26/15 12:40</td>\n",
              "      <td>6.587300e+17</td>\n",
              "      <td>main; @Kan1shk3</td>\n",
              "      <td>Chennai</td>\n",
              "    </tr>\n",
              "    <tr>\n",
              "      <td>1</td>\n",
              "      <td>815719227</td>\n",
              "      <td>False</td>\n",
              "      <td>finalized</td>\n",
              "      <td>3</td>\n",
              "      <td>10/26/15 23:30</td>\n",
              "      <td>male</td>\n",
              "      <td>1.0000</td>\n",
              "      <td>yes</td>\n",
              "      <td>1.0</td>\n",
              "      <td>10/1/12 13:51</td>\n",
              "      <td>...</td>\n",
              "      <td>https://pbs.twimg.com/profile_images/539604221...</td>\n",
              "      <td>0</td>\n",
              "      <td>C0DEED</td>\n",
              "      <td>ÛÏIt felt like they were my friends and I was...</td>\n",
              "      <td>NaN</td>\n",
              "      <td>7471</td>\n",
              "      <td>10/26/15 12:40</td>\n",
              "      <td>6.587300e+17</td>\n",
              "      <td>NaN</td>\n",
              "      <td>Eastern Time (US &amp; Canada)</td>\n",
              "    </tr>\n",
              "    <tr>\n",
              "      <td>2</td>\n",
              "      <td>815719228</td>\n",
              "      <td>False</td>\n",
              "      <td>finalized</td>\n",
              "      <td>3</td>\n",
              "      <td>10/26/15 23:33</td>\n",
              "      <td>male</td>\n",
              "      <td>0.6625</td>\n",
              "      <td>yes</td>\n",
              "      <td>1.0</td>\n",
              "      <td>11/28/14 11:30</td>\n",
              "      <td>...</td>\n",
              "      <td>https://pbs.twimg.com/profile_images/657330418...</td>\n",
              "      <td>1</td>\n",
              "      <td>C0DEED</td>\n",
              "      <td>i absolutely adore when louis starts the songs...</td>\n",
              "      <td>NaN</td>\n",
              "      <td>5617</td>\n",
              "      <td>10/26/15 12:40</td>\n",
              "      <td>6.587300e+17</td>\n",
              "      <td>clcncl</td>\n",
              "      <td>Belgrade</td>\n",
              "    </tr>\n",
              "    <tr>\n",
              "      <td>3</td>\n",
              "      <td>815719229</td>\n",
              "      <td>False</td>\n",
              "      <td>finalized</td>\n",
              "      <td>3</td>\n",
              "      <td>10/26/15 23:10</td>\n",
              "      <td>male</td>\n",
              "      <td>1.0000</td>\n",
              "      <td>yes</td>\n",
              "      <td>1.0</td>\n",
              "      <td>6/11/09 22:39</td>\n",
              "      <td>...</td>\n",
              "      <td>https://pbs.twimg.com/profile_images/259703936...</td>\n",
              "      <td>0</td>\n",
              "      <td>C0DEED</td>\n",
              "      <td>Hi @JordanSpieth - Looking at the url - do you...</td>\n",
              "      <td>NaN</td>\n",
              "      <td>1693</td>\n",
              "      <td>10/26/15 12:40</td>\n",
              "      <td>6.587300e+17</td>\n",
              "      <td>Palo Alto, CA</td>\n",
              "      <td>Pacific Time (US &amp; Canada)</td>\n",
              "    </tr>\n",
              "    <tr>\n",
              "      <td>4</td>\n",
              "      <td>815719230</td>\n",
              "      <td>False</td>\n",
              "      <td>finalized</td>\n",
              "      <td>3</td>\n",
              "      <td>10/27/15 1:15</td>\n",
              "      <td>female</td>\n",
              "      <td>1.0000</td>\n",
              "      <td>yes</td>\n",
              "      <td>1.0</td>\n",
              "      <td>4/16/14 13:23</td>\n",
              "      <td>...</td>\n",
              "      <td>https://pbs.twimg.com/profile_images/564094871...</td>\n",
              "      <td>0</td>\n",
              "      <td>0</td>\n",
              "      <td>Watching Neighbours on Sky+ catching up with t...</td>\n",
              "      <td>NaN</td>\n",
              "      <td>31462</td>\n",
              "      <td>10/26/15 12:40</td>\n",
              "      <td>6.587300e+17</td>\n",
              "      <td>NaN</td>\n",
              "      <td>NaN</td>\n",
              "    </tr>\n",
              "  </tbody>\n",
              "</table>\n",
              "<p>5 rows × 26 columns</p>\n",
              "</div>"
            ],
            "text/plain": [
              "    _unit_id  _golden _unit_state  _trusted_judgments _last_judgment_at  \\\n",
              "0  815719226    False   finalized                   3    10/26/15 23:24   \n",
              "1  815719227    False   finalized                   3    10/26/15 23:30   \n",
              "2  815719228    False   finalized                   3    10/26/15 23:33   \n",
              "3  815719229    False   finalized                   3    10/26/15 23:10   \n",
              "4  815719230    False   finalized                   3     10/27/15 1:15   \n",
              "\n",
              "   gender  gender:confidence profile_yn  profile_yn:confidence  \\\n",
              "0    male             1.0000        yes                    1.0   \n",
              "1    male             1.0000        yes                    1.0   \n",
              "2    male             0.6625        yes                    1.0   \n",
              "3    male             1.0000        yes                    1.0   \n",
              "4  female             1.0000        yes                    1.0   \n",
              "\n",
              "          created  ...                                       profileimage  \\\n",
              "0    12/5/13 1:48  ...  https://pbs.twimg.com/profile_images/414342229...   \n",
              "1   10/1/12 13:51  ...  https://pbs.twimg.com/profile_images/539604221...   \n",
              "2  11/28/14 11:30  ...  https://pbs.twimg.com/profile_images/657330418...   \n",
              "3   6/11/09 22:39  ...  https://pbs.twimg.com/profile_images/259703936...   \n",
              "4   4/16/14 13:23  ...  https://pbs.twimg.com/profile_images/564094871...   \n",
              "\n",
              "   retweet_count sidebar_color  \\\n",
              "0              0        FFFFFF   \n",
              "1              0        C0DEED   \n",
              "2              1        C0DEED   \n",
              "3              0        C0DEED   \n",
              "4              0             0   \n",
              "\n",
              "                                                text tweet_coord tweet_count  \\\n",
              "0  Robbie E Responds To Critics After Win Against...         NaN      110964   \n",
              "1  ÛÏIt felt like they were my friends and I was...         NaN        7471   \n",
              "2  i absolutely adore when louis starts the songs...         NaN        5617   \n",
              "3  Hi @JordanSpieth - Looking at the url - do you...         NaN        1693   \n",
              "4  Watching Neighbours on Sky+ catching up with t...         NaN       31462   \n",
              "\n",
              "    tweet_created      tweet_id   tweet_location               user_timezone  \n",
              "0  10/26/15 12:40  6.587300e+17  main; @Kan1shk3                     Chennai  \n",
              "1  10/26/15 12:40  6.587300e+17              NaN  Eastern Time (US & Canada)  \n",
              "2  10/26/15 12:40  6.587300e+17           clcncl                    Belgrade  \n",
              "3  10/26/15 12:40  6.587300e+17    Palo Alto, CA  Pacific Time (US & Canada)  \n",
              "4  10/26/15 12:40  6.587300e+17              NaN                         NaN  \n",
              "\n",
              "[5 rows x 26 columns]"
            ]
          },
          "metadata": {
            "tags": []
          },
          "execution_count": 2
        }
      ]
    },
    {
      "cell_type": "code",
      "metadata": {
        "id": "30JUX1VZcT_2",
        "outputId": "f25a9ed0-62e9-4009-82ba-211e83445d99"
      },
      "source": [
        "df.info()# checking information regarding the dataset (number of null values)"
      ],
      "execution_count": null,
      "outputs": [
        {
          "output_type": "stream",
          "text": [
            "<class 'pandas.core.frame.DataFrame'>\n",
            "RangeIndex: 20050 entries, 0 to 20049\n",
            "Data columns (total 26 columns):\n",
            "_unit_id                 20050 non-null int64\n",
            "_golden                  20050 non-null bool\n",
            "_unit_state              20050 non-null object\n",
            "_trusted_judgments       20050 non-null int64\n",
            "_last_judgment_at        20000 non-null object\n",
            "gender                   19953 non-null object\n",
            "gender:confidence        20024 non-null float64\n",
            "profile_yn               20050 non-null object\n",
            "profile_yn:confidence    20050 non-null float64\n",
            "created                  20050 non-null object\n",
            "description              16306 non-null object\n",
            "fav_number               20050 non-null int64\n",
            "gender_gold              50 non-null object\n",
            "link_color               20050 non-null object\n",
            "name                     20050 non-null object\n",
            "profile_yn_gold          50 non-null object\n",
            "profileimage             20050 non-null object\n",
            "retweet_count            20050 non-null int64\n",
            "sidebar_color            20050 non-null object\n",
            "text                     20050 non-null object\n",
            "tweet_coord              159 non-null object\n",
            "tweet_count              20050 non-null int64\n",
            "tweet_created            20050 non-null object\n",
            "tweet_id                 20050 non-null float64\n",
            "tweet_location           12566 non-null object\n",
            "user_timezone            12252 non-null object\n",
            "dtypes: bool(1), float64(3), int64(5), object(17)\n",
            "memory usage: 3.8+ MB\n"
          ],
          "name": "stdout"
        }
      ]
    },
    {
      "cell_type": "code",
      "metadata": {
        "id": "rxsufbpMcT_4",
        "outputId": "4b3ef178-1531-433f-b234-c3c044924b0b"
      },
      "source": [
        "df = df.dropna(subset = ['gender' , 'text' ,'description']) #dropping the unrequired features\n",
        "df.isna().sum()# checking the number of null values in the dataset"
      ],
      "execution_count": null,
      "outputs": [
        {
          "output_type": "execute_result",
          "data": {
            "text/plain": [
              "_unit_id                     0\n",
              "_golden                      0\n",
              "_unit_state                  0\n",
              "_trusted_judgments           0\n",
              "_last_judgment_at           44\n",
              "gender                       0\n",
              "gender:confidence            0\n",
              "profile_yn                   0\n",
              "profile_yn:confidence        0\n",
              "created                      0\n",
              "description                  0\n",
              "fav_number                   0\n",
              "gender_gold              16180\n",
              "link_color                   0\n",
              "name                         0\n",
              "profile_yn_gold          16180\n",
              "profileimage                 0\n",
              "retweet_count                0\n",
              "sidebar_color                0\n",
              "text                         0\n",
              "tweet_coord              16072\n",
              "tweet_count                  0\n",
              "tweet_created                0\n",
              "tweet_id                     0\n",
              "tweet_location            4408\n",
              "user_timezone             5078\n",
              "dtype: int64"
            ]
          },
          "metadata": {
            "tags": []
          },
          "execution_count": 4
        }
      ]
    },
    {
      "cell_type": "code",
      "metadata": {
        "id": "S2q3SjtQcT_7"
      },
      "source": [
        "df = df[df['gender:confidence']==1] #filtering the dataset on the basis of confidence\n",
        "df = df[df['gender'] != 'unknown']# filtering the dataset on the basis of confidence"
      ],
      "execution_count": null,
      "outputs": []
    },
    {
      "cell_type": "code",
      "metadata": {
        "id": "PKbJGaWmcT_-"
      },
      "source": [
        "def normalize_text(s):\n",
        "    # just in case\n",
        "    s = str(s)\n",
        "    s = s.lower()\n",
        "    \n",
        "    # remove punctuation that is not word-internal (e.g., hyphens, apostrophes)\n",
        "    s = re.sub('\\s\\W',' ',s)\n",
        "    s = re.sub('\\W\\s',' ',s)\n",
        "    \n",
        "    # make sure we don't introduce any double spaces\n",
        "    s = re.sub('\\s+',' ',s)\n",
        "    \n",
        "    return s"
      ],
      "execution_count": null,
      "outputs": []
    },
    {
      "cell_type": "code",
      "metadata": {
        "id": "FsrXNRbUcUAA",
        "outputId": "d12d9f29-fe7c-41dd-a24e-361413c27bc9"
      },
      "source": [
        "import nltk\n",
        "nltk.download('stopwords')# importing all the stopwords"
      ],
      "execution_count": null,
      "outputs": [
        {
          "output_type": "stream",
          "text": [
            "[nltk_data] Downloading package stopwords to\n",
            "[nltk_data]     C:\\Users\\Sainath\\AppData\\Roaming\\nltk_data...\n",
            "[nltk_data]   Package stopwords is already up-to-date!\n"
          ],
          "name": "stderr"
        },
        {
          "output_type": "execute_result",
          "data": {
            "text/plain": [
              "True"
            ]
          },
          "metadata": {
            "tags": []
          },
          "execution_count": 7
        }
      ]
    },
    {
      "cell_type": "code",
      "metadata": {
        "id": "dx_PBuvAcUAC"
      },
      "source": [
        "df['text_norm'] = [normalize_text(s) for s in df['text']]\n",
        "df['description_norm'] = [normalize_text(s) for s in df['description']]\n",
        "from nltk.corpus import stopwords\n",
        "stop = set(stopwords.words('english'))\n",
        "df['text_norm'] = df['text_norm'].str.lower().str.split()\n",
        "df['text_norm'] = df['text_norm'].apply(lambda x : [item for item in x if item not in stop])"
      ],
      "execution_count": null,
      "outputs": []
    },
    {
      "cell_type": "code",
      "metadata": {
        "id": "hxeNT8BRcUAF",
        "outputId": "57a82e4f-4394-41e4-8a7d-e728663c283a"
      },
      "source": [
        "df.shape# checking the shape"
      ],
      "execution_count": null,
      "outputs": [
        {
          "output_type": "execute_result",
          "data": {
            "text/plain": [
              "(11773, 28)"
            ]
          },
          "metadata": {
            "tags": []
          },
          "execution_count": 9
        }
      ]
    },
    {
      "cell_type": "code",
      "metadata": {
        "id": "nAkL1avBcUAI"
      },
      "source": [
        "df = df.drop(['gender:confidence','profile_yn:confidence'],axis=1) #dropping columns"
      ],
      "execution_count": null,
      "outputs": []
    },
    {
      "cell_type": "code",
      "metadata": {
        "id": "bfKarnlzcUAK"
      },
      "source": [
        "encoder = LabelEncoder()# initializing the encoder\n",
        "df['gender'] = encoder.fit_transform(df['gender'])#encoding the gender values\n",
        "df.drop(['_unit_id'],axis=1,inplace=True)# dropping unrequired columns"
      ],
      "execution_count": null,
      "outputs": []
    },
    {
      "cell_type": "markdown",
      "metadata": {
        "id": "XE5f6W68cUAN"
      },
      "source": [
        "### Visualization Of Data"
      ]
    },
    {
      "cell_type": "code",
      "metadata": {
        "id": "oirndsHhcUAO",
        "outputId": "05a9ba97-a2a9-4ffc-be97-cc7763b29493"
      },
      "source": [
        "corr = df.corr()# getting the correlation values\n",
        "sns.heatmap(corr)# plotting the heatmap"
      ],
      "execution_count": null,
      "outputs": [
        {
          "output_type": "execute_result",
          "data": {
            "text/plain": [
              "<matplotlib.axes._subplots.AxesSubplot at 0x1fc7bd7c048>"
            ]
          },
          "metadata": {
            "tags": []
          },
          "execution_count": 12
        },
        {
          "output_type": "display_data",
          "data": {
            "image/png": "[encoded data removed]",
            "text/plain": [
              "<Figure size 432x288 with 2 Axes>"
            ]
          },
          "metadata": {
            "tags": [],
            "needs_background": "light"
          }
        }
      ]
    },
    {
      "cell_type": "code",
      "metadata": {
        "id": "QBfbdku0cUAQ"
      },
      "source": [
        "df.drop(['_golden','_unit_state','_trusted_judgments','_last_judgment_at','profile_yn'\n",
        "         ,'created','fav_number','gender_gold','name','profile_yn_gold','profileimage','retweet_count'\n",
        "         ,'tweet_coord','tweet_created','tweet_id','tweet_location','user_timezone','tweet_count'],axis =1,inplace = True)# dropping the unrequired columns"
      ],
      "execution_count": null,
      "outputs": []
    },
    {
      "cell_type": "code",
      "metadata": {
        "id": "y90TcmWJcUAS",
        "outputId": "68ec657c-ca2f-4fc4-f308-153886e2bada"
      },
      "source": [
        "df.head()#printing the first 5 rows"
      ],
      "execution_count": null,
      "outputs": [
        {
          "output_type": "execute_result",
          "data": {
            "text/html": [
              "<div>\n",
              "<style scoped>\n",
              "    .dataframe tbody tr th:only-of-type {\n",
              "        vertical-align: middle;\n",
              "    }\n",
              "\n",
              "    .dataframe tbody tr th {\n",
              "        vertical-align: top;\n",
              "    }\n",
              "\n",
              "    .dataframe thead th {\n",
              "        text-align: right;\n",
              "    }\n",
              "</style>\n",
              "<table border=\"1\" class=\"dataframe\">\n",
              "  <thead>\n",
              "    <tr style=\"text-align: right;\">\n",
              "      <th></th>\n",
              "      <th>gender</th>\n",
              "      <th>description</th>\n",
              "      <th>link_color</th>\n",
              "      <th>sidebar_color</th>\n",
              "      <th>text</th>\n",
              "      <th>text_norm</th>\n",
              "      <th>description_norm</th>\n",
              "    </tr>\n",
              "  </thead>\n",
              "  <tbody>\n",
              "    <tr>\n",
              "      <td>0</td>\n",
              "      <td>2</td>\n",
              "      <td>i sing my own rhythm.</td>\n",
              "      <td>08C2C2</td>\n",
              "      <td>FFFFFF</td>\n",
              "      <td>Robbie E Responds To Critics After Win Against...</td>\n",
              "      <td>[robbie, e, responds, critics, win, eddie, edw...</td>\n",
              "      <td>i sing my own rhythm.</td>\n",
              "    </tr>\n",
              "    <tr>\n",
              "      <td>1</td>\n",
              "      <td>2</td>\n",
              "      <td>I'm the author of novels filled with family dr...</td>\n",
              "      <td>0084B4</td>\n",
              "      <td>C0DEED</td>\n",
              "      <td>ÛÏIt felt like they were my friends and I was...</td>\n",
              "      <td>[ûïit, felt, like, friends, living, story, th...</td>\n",
              "      <td>i'm the author of novels filled with family dr...</td>\n",
              "    </tr>\n",
              "    <tr>\n",
              "      <td>3</td>\n",
              "      <td>2</td>\n",
              "      <td>Mobile guy.  49ers, Shazam, Google, Kleiner Pe...</td>\n",
              "      <td>0084B4</td>\n",
              "      <td>C0DEED</td>\n",
              "      <td>Hi @JordanSpieth - Looking at the url - do you...</td>\n",
              "      <td>[hi, jordanspieth, looking, url, use, ifttt?, ...</td>\n",
              "      <td>mobile guy 49ers shazam google kleiner perkins...</td>\n",
              "    </tr>\n",
              "    <tr>\n",
              "      <td>4</td>\n",
              "      <td>1</td>\n",
              "      <td>Ricky Wilson The Best FRONTMAN/Kaiser Chiefs T...</td>\n",
              "      <td>3B94D9</td>\n",
              "      <td>0</td>\n",
              "      <td>Watching Neighbours on Sky+ catching up with t...</td>\n",
              "      <td>[watching, neighbours, sky, catching, neighbs!...</td>\n",
              "      <td>ricky wilson the best frontman/kaiser chiefs t...</td>\n",
              "    </tr>\n",
              "    <tr>\n",
              "      <td>5</td>\n",
              "      <td>1</td>\n",
              "      <td>you don't know me.</td>\n",
              "      <td>F5ABB5</td>\n",
              "      <td>0</td>\n",
              "      <td>Ive seen people on the train with lamps, chair...</td>\n",
              "      <td>[ive, seen, people, train, lamps, chairs, tvs,...</td>\n",
              "      <td>you don't know me.</td>\n",
              "    </tr>\n",
              "  </tbody>\n",
              "</table>\n",
              "</div>"
            ],
            "text/plain": [
              "   gender                                        description link_color  \\\n",
              "0       2                              i sing my own rhythm.     08C2C2   \n",
              "1       2  I'm the author of novels filled with family dr...     0084B4   \n",
              "3       2  Mobile guy.  49ers, Shazam, Google, Kleiner Pe...     0084B4   \n",
              "4       1  Ricky Wilson The Best FRONTMAN/Kaiser Chiefs T...     3B94D9   \n",
              "5       1                                 you don't know me.     F5ABB5   \n",
              "\n",
              "  sidebar_color                                               text  \\\n",
              "0        FFFFFF  Robbie E Responds To Critics After Win Against...   \n",
              "1        C0DEED  ÛÏIt felt like they were my friends and I was...   \n",
              "3        C0DEED  Hi @JordanSpieth - Looking at the url - do you...   \n",
              "4             0  Watching Neighbours on Sky+ catching up with t...   \n",
              "5             0  Ive seen people on the train with lamps, chair...   \n",
              "\n",
              "                                           text_norm  \\\n",
              "0  [robbie, e, responds, critics, win, eddie, edw...   \n",
              "1  [ûïit, felt, like, friends, living, story, th...   \n",
              "3  [hi, jordanspieth, looking, url, use, ifttt?, ...   \n",
              "4  [watching, neighbours, sky, catching, neighbs!...   \n",
              "5  [ive, seen, people, train, lamps, chairs, tvs,...   \n",
              "\n",
              "                                    description_norm  \n",
              "0                              i sing my own rhythm.  \n",
              "1  i'm the author of novels filled with family dr...  \n",
              "3  mobile guy 49ers shazam google kleiner perkins...  \n",
              "4  ricky wilson the best frontman/kaiser chiefs t...  \n",
              "5                                 you don't know me.  "
            ]
          },
          "metadata": {
            "tags": []
          },
          "execution_count": 14
        }
      ]
    },
    {
      "cell_type": "code",
      "metadata": {
        "id": "gm-SMJtgcUAU",
        "outputId": "7d34c3a6-98cf-4940-979d-7f995ef75c11"
      },
      "source": [
        "df.info()#printing the information"
      ],
      "execution_count": null,
      "outputs": [
        {
          "output_type": "stream",
          "text": [
            "<class 'pandas.core.frame.DataFrame'>\n",
            "Int64Index: 11773 entries, 0 to 20049\n",
            "Data columns (total 7 columns):\n",
            "gender              11773 non-null int32\n",
            "description         11773 non-null object\n",
            "link_color          11773 non-null object\n",
            "sidebar_color       11773 non-null object\n",
            "text                11773 non-null object\n",
            "text_norm           11773 non-null object\n",
            "description_norm    11773 non-null object\n",
            "dtypes: int32(1), object(6)\n",
            "memory usage: 689.8+ KB\n"
          ],
          "name": "stdout"
        }
      ]
    },
    {
      "cell_type": "markdown",
      "metadata": {
        "id": "g-xuuiVucUAX"
      },
      "source": [
        "###  Q1) What are the most common emotions/words used by Males and Females?"
      ]
    },
    {
      "cell_type": "code",
      "metadata": {
        "id": "4j51nzxLcUAX"
      },
      "source": [
        "Male = df[df['gender'] == 2]# taking only the values with male as gender\n",
        "Female = df[df['gender'] == 1]#taking only the values with female as gender\n",
        "Brand = df[df['gender'] == 0]#taking non-gender values\n",
        "Male_Words = pd.Series(' '.join(Male['text_norm'].astype(str)).lower().split(\" \")).value_counts()[:20]# printing the top words\n",
        "Female_Words = pd.Series(' '.join(Female['text_norm'].astype(str)).lower().split(\" \")).value_counts()[:20]# printing the top words\n",
        "Brand_words = pd.Series(' '.join(Brand['text_norm'].astype(str)).lower().split(\" \")).value_counts()[:10]# printing the top words"
      ],
      "execution_count": null,
      "outputs": []
    },
    {
      "cell_type": "code",
      "metadata": {
        "id": "juuQyfi5cUAa",
        "outputId": "46ba9acb-922e-45c6-eacd-918514211cab"
      },
      "source": [
        "Female_Words.plot(kind='bar',stacked=True)# plotting the frequency of these words"
      ],
      "execution_count": null,
      "outputs": [
        {
          "output_type": "execute_result",
          "data": {
            "text/plain": [
              "<matplotlib.axes._subplots.AxesSubplot at 0x1fc797aff48>"
            ]
          },
          "metadata": {
            "tags": []
          },
          "execution_count": 17
        },
        {
          "output_type": "display_data",
          "data": {
            "image/png": "[encoded data removed]",
            "text/plain": [
              "<Figure size 432x288 with 1 Axes>"
            ]
          },
          "metadata": {
            "tags": [],
            "needs_background": "light"
          }
        }
      ]
    },
    {
      "cell_type": "code",
      "metadata": {
        "id": "MbkFSU2LcUAc",
        "outputId": "caf1f660-3623-4c8a-ca7a-e07edd4bdd2d"
      },
      "source": [
        "Male_Words.plot(kind='bar',stacked=True)# printing the frequency of the top words"
      ],
      "execution_count": null,
      "outputs": [
        {
          "output_type": "execute_result",
          "data": {
            "text/plain": [
              "<matplotlib.axes._subplots.AxesSubplot at 0x1fc7ad77248>"
            ]
          },
          "metadata": {
            "tags": []
          },
          "execution_count": 18
        },
        {
          "output_type": "display_data",
          "data": {
            "image/png": "[encoded data removed]",
            "text/plain": [
              "<Figure size 432x288 with 1 Axes>"
            ]
          },
          "metadata": {
            "tags": [],
            "needs_background": "light"
          }
        }
      ]
    },
    {
      "cell_type": "code",
      "metadata": {
        "id": "2itfUcrJcUAe",
        "outputId": "b970c50e-917f-4fed-bee5-ad95e3b681d3"
      },
      "source": [
        "Brand_words.plot(kind='bar',stacked=True)# printing the frequency of these words"
      ],
      "execution_count": null,
      "outputs": [
        {
          "output_type": "execute_result",
          "data": {
            "text/plain": [
              "<matplotlib.axes._subplots.AxesSubplot at 0x1fc7b8727c8>"
            ]
          },
          "metadata": {
            "tags": []
          },
          "execution_count": 19
        },
        {
          "output_type": "display_data",
          "data": {
            "image/png": "[encoded data removed]",
            "text/plain": [
              "<Figure size 432x288 with 1 Axes>"
            ]
          },
          "metadata": {
            "tags": [],
            "needs_background": "light"
          }
        }
      ]
    },
    {
      "cell_type": "markdown",
      "metadata": {
        "id": "SaHtSHP3cUAg"
      },
      "source": [
        "### Q2) how well do stylistic factors (like link color and sidebar color) predict user gender?"
      ]
    },
    {
      "cell_type": "code",
      "metadata": {
        "id": "l5c9bySfcUAg",
        "outputId": "1ace6555-e33a-4249-a3b4-654b10c0ddb4"
      },
      "source": [
        "df.isna().sum()# checking the number of null values"
      ],
      "execution_count": null,
      "outputs": [
        {
          "output_type": "execute_result",
          "data": {
            "text/plain": [
              "gender              0\n",
              "description         0\n",
              "link_color          0\n",
              "sidebar_color       0\n",
              "text                0\n",
              "text_norm           0\n",
              "description_norm    0\n",
              "dtype: int64"
            ]
          },
          "metadata": {
            "tags": []
          },
          "execution_count": 20
        }
      ]
    },
    {
      "cell_type": "code",
      "metadata": {
        "id": "pFLooZFncUAi",
        "outputId": "4c3fd682-f085-4648-d887-43f583ba29c2"
      },
      "source": [
        "df.link_color.value_counts(),df.sidebar_color.value_counts()# checking the number of unique values"
      ],
      "execution_count": null,
      "outputs": [
        {
          "output_type": "execute_result",
          "data": {
            "text/plain": [
              "(0084B4    4945\n",
              " 9999       428\n",
              " 3B94D9     412\n",
              " DD2E44     308\n",
              " 9266CC     299\n",
              "           ... \n",
              " FC7777       1\n",
              " C25D5D       1\n",
              " 2E90D1       1\n",
              " C92F14       1\n",
              " 629EB8       1\n",
              " Name: link_color, Length: 2190, dtype: int64, C0DEED    4332\n",
              " FFFFFF    2621\n",
              " 0         2555\n",
              " EEEEEE     502\n",
              " 181A1E     222\n",
              "           ... \n",
              " 186C90       1\n",
              " FCD3BB       1\n",
              " 69E2E8       1\n",
              " 0F0E0F       1\n",
              " 191A18       1\n",
              " Name: sidebar_color, Length: 453, dtype: int64)"
            ]
          },
          "metadata": {
            "tags": []
          },
          "execution_count": 21
        }
      ]
    },
    {
      "cell_type": "markdown",
      "metadata": {
        "id": "k1wEwms6cUAl"
      },
      "source": [
        "### Making a sparse matrix "
      ]
    },
    {
      "cell_type": "code",
      "metadata": {
        "id": "wdxdqQaTcUAm"
      },
      "source": [
        "vectorizer = CountVectorizer()\n",
        "x = vectorizer.fit_transform(df['sidebar_color'],df['link_color'])# generating sparse matrix for the two columns"
      ],
      "execution_count": null,
      "outputs": []
    },
    {
      "cell_type": "code",
      "metadata": {
        "id": "HeQvwmPXcUAo"
      },
      "source": [
        "y=df['gender']"
      ],
      "execution_count": null,
      "outputs": []
    },
    {
      "cell_type": "code",
      "metadata": {
        "id": "wfDXKxe-cUAq"
      },
      "source": [
        "x_train, x_test, y_train, y_test = train_test_split(x, y,test_size=0.2,)# splitting into training and testing data"
      ],
      "execution_count": null,
      "outputs": []
    },
    {
      "cell_type": "code",
      "metadata": {
        "id": "lEHwPIDCcUAs"
      },
      "source": [
        "nb = MultinomialNB()# choosing the Naive Bayes Classifier"
      ],
      "execution_count": null,
      "outputs": []
    },
    {
      "cell_type": "code",
      "metadata": {
        "id": "lhEM6h64cUAu",
        "outputId": "05127d0b-cf8d-4e9a-b22d-640c55ec2292"
      },
      "source": [
        "nb.fit(x_train,y_train)# training the classifier"
      ],
      "execution_count": null,
      "outputs": [
        {
          "output_type": "execute_result",
          "data": {
            "text/plain": [
              "MultinomialNB(alpha=1.0, class_prior=None, fit_prior=True)"
            ]
          },
          "metadata": {
            "tags": []
          },
          "execution_count": 26
        }
      ]
    },
    {
      "cell_type": "code",
      "metadata": {
        "id": "uWfWRE3LcUAw",
        "outputId": "b7234ae9-9e12-4009-930c-5271c5ad222e"
      },
      "source": [
        "nb_accuracy = nb.score(x_test,y_test)# checking the accuracy of the classifier\n",
        "nb_accuracy"
      ],
      "execution_count": null,
      "outputs": [
        {
          "output_type": "execute_result",
          "data": {
            "text/plain": [
              "0.4326963906581741"
            ]
          },
          "metadata": {
            "tags": []
          },
          "execution_count": 27
        }
      ]
    },
    {
      "cell_type": "code",
      "metadata": {
        "id": "KcbjKE4ucUAz"
      },
      "source": [
        "df.drop(['sidebar_color','link_color'],axis=1,inplace=True)# dropping the two columns"
      ],
      "execution_count": null,
      "outputs": []
    },
    {
      "cell_type": "code",
      "metadata": {
        "id": "lJXaiNzscUA0",
        "outputId": "1b6d6933-9f0f-4927-d295-0fbe0f1aa92a"
      },
      "source": [
        "df.head()"
      ],
      "execution_count": null,
      "outputs": [
        {
          "output_type": "execute_result",
          "data": {
            "text/html": [
              "<div>\n",
              "<style scoped>\n",
              "    .dataframe tbody tr th:only-of-type {\n",
              "        vertical-align: middle;\n",
              "    }\n",
              "\n",
              "    .dataframe tbody tr th {\n",
              "        vertical-align: top;\n",
              "    }\n",
              "\n",
              "    .dataframe thead th {\n",
              "        text-align: right;\n",
              "    }\n",
              "</style>\n",
              "<table border=\"1\" class=\"dataframe\">\n",
              "  <thead>\n",
              "    <tr style=\"text-align: right;\">\n",
              "      <th></th>\n",
              "      <th>gender</th>\n",
              "      <th>description</th>\n",
              "      <th>text</th>\n",
              "      <th>text_norm</th>\n",
              "      <th>description_norm</th>\n",
              "    </tr>\n",
              "  </thead>\n",
              "  <tbody>\n",
              "    <tr>\n",
              "      <td>0</td>\n",
              "      <td>2</td>\n",
              "      <td>i sing my own rhythm.</td>\n",
              "      <td>Robbie E Responds To Critics After Win Against...</td>\n",
              "      <td>[robbie, e, responds, critics, win, eddie, edw...</td>\n",
              "      <td>i sing my own rhythm.</td>\n",
              "    </tr>\n",
              "    <tr>\n",
              "      <td>1</td>\n",
              "      <td>2</td>\n",
              "      <td>I'm the author of novels filled with family dr...</td>\n",
              "      <td>ÛÏIt felt like they were my friends and I was...</td>\n",
              "      <td>[ûïit, felt, like, friends, living, story, th...</td>\n",
              "      <td>i'm the author of novels filled with family dr...</td>\n",
              "    </tr>\n",
              "    <tr>\n",
              "      <td>3</td>\n",
              "      <td>2</td>\n",
              "      <td>Mobile guy.  49ers, Shazam, Google, Kleiner Pe...</td>\n",
              "      <td>Hi @JordanSpieth - Looking at the url - do you...</td>\n",
              "      <td>[hi, jordanspieth, looking, url, use, ifttt?, ...</td>\n",
              "      <td>mobile guy 49ers shazam google kleiner perkins...</td>\n",
              "    </tr>\n",
              "    <tr>\n",
              "      <td>4</td>\n",
              "      <td>1</td>\n",
              "      <td>Ricky Wilson The Best FRONTMAN/Kaiser Chiefs T...</td>\n",
              "      <td>Watching Neighbours on Sky+ catching up with t...</td>\n",
              "      <td>[watching, neighbours, sky, catching, neighbs!...</td>\n",
              "      <td>ricky wilson the best frontman/kaiser chiefs t...</td>\n",
              "    </tr>\n",
              "    <tr>\n",
              "      <td>5</td>\n",
              "      <td>1</td>\n",
              "      <td>you don't know me.</td>\n",
              "      <td>Ive seen people on the train with lamps, chair...</td>\n",
              "      <td>[ive, seen, people, train, lamps, chairs, tvs,...</td>\n",
              "      <td>you don't know me.</td>\n",
              "    </tr>\n",
              "  </tbody>\n",
              "</table>\n",
              "</div>"
            ],
            "text/plain": [
              "   gender                                        description  \\\n",
              "0       2                              i sing my own rhythm.   \n",
              "1       2  I'm the author of novels filled with family dr...   \n",
              "3       2  Mobile guy.  49ers, Shazam, Google, Kleiner Pe...   \n",
              "4       1  Ricky Wilson The Best FRONTMAN/Kaiser Chiefs T...   \n",
              "5       1                                 you don't know me.   \n",
              "\n",
              "                                                text  \\\n",
              "0  Robbie E Responds To Critics After Win Against...   \n",
              "1  ÛÏIt felt like they were my friends and I was...   \n",
              "3  Hi @JordanSpieth - Looking at the url - do you...   \n",
              "4  Watching Neighbours on Sky+ catching up with t...   \n",
              "5  Ive seen people on the train with lamps, chair...   \n",
              "\n",
              "                                           text_norm  \\\n",
              "0  [robbie, e, responds, critics, win, eddie, edw...   \n",
              "1  [ûïit, felt, like, friends, living, story, th...   \n",
              "3  [hi, jordanspieth, looking, url, use, ifttt?, ...   \n",
              "4  [watching, neighbours, sky, catching, neighbs!...   \n",
              "5  [ive, seen, people, train, lamps, chairs, tvs,...   \n",
              "\n",
              "                                    description_norm  \n",
              "0                              i sing my own rhythm.  \n",
              "1  i'm the author of novels filled with family dr...  \n",
              "3  mobile guy 49ers shazam google kleiner perkins...  \n",
              "4  ricky wilson the best frontman/kaiser chiefs t...  \n",
              "5                                 you don't know me.  "
            ]
          },
          "metadata": {
            "tags": []
          },
          "execution_count": 29
        }
      ]
    },
    {
      "cell_type": "markdown",
      "metadata": {
        "id": "eVIyqx9xcUA2"
      },
      "source": [
        "### Making a sparse matrix"
      ]
    },
    {
      "cell_type": "code",
      "metadata": {
        "id": "v-6I5bo2cUA3"
      },
      "source": [
        "vectorizer = CountVectorizer()\n",
        "x = vectorizer.fit_transform(df['description_norm'])# generating the sparse matrix"
      ],
      "execution_count": null,
      "outputs": []
    },
    {
      "cell_type": "code",
      "metadata": {
        "id": "XquMEstycUA5"
      },
      "source": [
        "y=df['gender']# setting the dependent variable"
      ],
      "execution_count": null,
      "outputs": []
    },
    {
      "cell_type": "code",
      "metadata": {
        "id": "nzeVvKPOcUA6",
        "outputId": "557194e7-fd29-4ef0-d0ba-326daa6d8df7"
      },
      "source": [
        "vectorizer.get_feature_names()# getting the feature names"
      ],
      "execution_count": null,
      "outputs": [
        {
          "output_type": "execute_result",
          "data": {
            "text/plain": [
              "['00',\n",
              " '000',\n",
              " '0040',\n",
              " '0054',\n",
              " '007',\n",
              " '00am',\n",
              " '00ft3tzexg',\n",
              " '00pm',\n",
              " '01',\n",
              " '01234',\n",
              " '01276501777',\n",
              " '013',\n",
              " '01302',\n",
              " '013zukotru',\n",
              " '01484',\n",
              " '01606',\n",
              " '0161',\n",
              " '01653',\n",
              " '01701',\n",
              " '01703',\n",
              " '01704',\n",
              " '0174',\n",
              " '01743',\n",
              " '01756',\n",
              " '01772',\n",
              " '01784',\n",
              " '01803',\n",
              " '01853',\n",
              " '01904',\n",
              " '0191',\n",
              " '01912843723',\n",
              " '02',\n",
              " '020',\n",
              " '0207',\n",
              " '02093',\n",
              " '02112',\n",
              " '02122',\n",
              " '02127',\n",
              " '02131',\n",
              " '03',\n",
              " '0305',\n",
              " '032815',\n",
              " '04',\n",
              " '05',\n",
              " '06',\n",
              " '07',\n",
              " '07084303757',\n",
              " '0736330793',\n",
              " '0744',\n",
              " '07508547008',\n",
              " '07520',\n",
              " '07789',\n",
              " '07854',\n",
              " '07zwdgufny',\n",
              " '08',\n",
              " '0800',\n",
              " '080115',\n",
              " '08033368714',\n",
              " '0804',\n",
              " '08063802515',\n",
              " '0808',\n",
              " '08105794681',\n",
              " '08117576104',\n",
              " '081228801199',\n",
              " '08130633694',\n",
              " '08156207507',\n",
              " '08168100936',\n",
              " '08212254696',\n",
              " '0845',\n",
              " '0871',\n",
              " '09',\n",
              " '0903',\n",
              " '09032121871',\n",
              " '090615',\n",
              " '09102014',\n",
              " '092915',\n",
              " '0atumvgiay',\n",
              " '0ay1mmvxvz',\n",
              " '0bmedgkmm0',\n",
              " '0c2pvyoclv',\n",
              " '0do7yneqck',\n",
              " '0f',\n",
              " '0h0dtj6kl8',\n",
              " '0hw0alqpwg',\n",
              " '0ilh1tsnzu',\n",
              " '0n1k6',\n",
              " '0qulhwipla',\n",
              " '0s63a5hxso',\n",
              " '0taph4kugi',\n",
              " '0vl3ftmkjw',\n",
              " '0xbac3a9bd',\n",
              " '10',\n",
              " '100',\n",
              " '1000',\n",
              " '1000cadeaus',\n",
              " '1000s',\n",
              " '1008',\n",
              " '100th',\n",
              " '101',\n",
              " '1011_news',\n",
              " '101smiles',\n",
              " '102',\n",
              " '1020chrisworld',\n",
              " '102393',\n",
              " '103',\n",
              " '104',\n",
              " '105',\n",
              " '10520',\n",
              " '106',\n",
              " '1063bridgefm',\n",
              " '107',\n",
              " '107fm',\n",
              " '10a',\n",
              " '10am',\n",
              " '10chains',\n",
              " '10ft',\n",
              " '10hmlteily',\n",
              " '10k',\n",
              " '10mins',\n",
              " '10p',\n",
              " '10pm',\n",
              " '10th',\n",
              " '10x',\n",
              " '11',\n",
              " '110',\n",
              " '1100',\n",
              " '1103',\n",
              " '110713',\n",
              " '11092015',\n",
              " '110lbs',\n",
              " '1115',\n",
              " '112',\n",
              " '11231',\n",
              " '113c',\n",
              " '115',\n",
              " '1152',\n",
              " '116',\n",
              " '117',\n",
              " '1170',\n",
              " '119',\n",
              " '11alivenews',\n",
              " '11eq0qrlae',\n",
              " '11pm',\n",
              " '11th',\n",
              " '12',\n",
              " '121',\n",
              " '1211',\n",
              " '121714',\n",
              " '123',\n",
              " '123464',\n",
              " '124',\n",
              " '1246',\n",
              " '1273',\n",
              " '127qfekkay',\n",
              " '129',\n",
              " '12969',\n",
              " '12k',\n",
              " '12m',\n",
              " '12p',\n",
              " '12pm',\n",
              " '13',\n",
              " '1304',\n",
              " '1311',\n",
              " '132',\n",
              " '1326',\n",
              " '133',\n",
              " '134',\n",
              " '13414',\n",
              " '1360',\n",
              " '139',\n",
              " '13elieve',\n",
              " '13hbbpp5kf',\n",
              " '14',\n",
              " '140',\n",
              " '140108',\n",
              " '140212',\n",
              " '142',\n",
              " '1447',\n",
              " '146783',\n",
              " '1486',\n",
              " '14th',\n",
              " '15',\n",
              " '150809',\n",
              " '150816',\n",
              " '1510',\n",
              " '151021',\n",
              " '156',\n",
              " '159',\n",
              " '15pm',\n",
              " '15th',\n",
              " '15yrs',\n",
              " '16',\n",
              " '160',\n",
              " '16850',\n",
              " '1690am',\n",
              " '16k',\n",
              " '16mk5fg072',\n",
              " '16th',\n",
              " '16years',\n",
              " '16yearsold',\n",
              " '17',\n",
              " '170lbs',\n",
              " '175',\n",
              " '1788',\n",
              " '17x',\n",
              " '17y',\n",
              " '17yo',\n",
              " '18',\n",
              " '1800',\n",
              " '1801',\n",
              " '182',\n",
              " '1822',\n",
              " '184',\n",
              " '1863',\n",
              " '187',\n",
              " '1872',\n",
              " '1874northwich',\n",
              " '1881',\n",
              " '1889',\n",
              " '1897',\n",
              " '18u',\n",
              " '18yr',\n",
              " '18yrs',\n",
              " '19',\n",
              " '1905',\n",
              " '1907',\n",
              " '1908',\n",
              " '1908s',\n",
              " '1914',\n",
              " '1917',\n",
              " '1930s',\n",
              " '1940s',\n",
              " '1946',\n",
              " '195',\n",
              " '1955',\n",
              " '1956',\n",
              " '1958',\n",
              " '1960',\n",
              " '1963',\n",
              " '1965',\n",
              " '1967',\n",
              " '1969',\n",
              " '1970',\n",
              " '1972',\n",
              " '1973',\n",
              " '1974',\n",
              " '1975',\n",
              " '1976',\n",
              " '1977',\n",
              " '1978',\n",
              " '1979',\n",
              " '1980',\n",
              " '1980shead',\n",
              " '1982',\n",
              " '1983',\n",
              " '1984',\n",
              " '1985',\n",
              " '1986',\n",
              " '1987',\n",
              " '1988',\n",
              " '1989',\n",
              " '1990',\n",
              " '1991',\n",
              " '1992',\n",
              " '1993',\n",
              " '1994',\n",
              " '1995',\n",
              " '1996',\n",
              " '1997',\n",
              " '1998',\n",
              " '1999',\n",
              " '19th',\n",
              " '19xx',\n",
              " '1_newarkoutlaw',\n",
              " '1a',\n",
              " '1bad',\n",
              " '1cc45n6ohq',\n",
              " '1corinthians',\n",
              " '1d',\n",
              " '1dzwpr1gnx',\n",
              " '1eg',\n",
              " '1egtge2se2',\n",
              " '1entity',\n",
              " '1eydfddtht',\n",
              " '1fan',\n",
              " '1gam',\n",
              " '1gp5m8soyr',\n",
              " '1gr3qd8ugx',\n",
              " '1hq',\n",
              " '1humanfamily',\n",
              " '1ian6xeffq',\n",
              " '1in5',\n",
              " '1jmn9627r5',\n",
              " '1k',\n",
              " '1kschools4refugees',\n",
              " '1lqkmg0chs',\n",
              " '1mmvuk3vq7',\n",
              " '1niteshow',\n",
              " '1p',\n",
              " '1pmlunch',\n",
              " '1rrw',\n",
              " '1st',\n",
              " '1stphorm',\n",
              " '1stseptember2015',\n",
              " '1tk4zl7zvb',\n",
              " '1uocuxe8rx',\n",
              " '1uql4hsw2c',\n",
              " '1ux5cv2teu',\n",
              " '1w2',\n",
              " '1x',\n",
              " '1xcyvdxb8v',\n",
              " '1xtra',\n",
              " '1xzyyowhb2',\n",
              " '1ybqdhbfsi',\n",
              " '1z38liqphb',\n",
              " '20',\n",
              " '200',\n",
              " '2000',\n",
              " '2000s',\n",
              " '2001',\n",
              " '2002',\n",
              " '2004',\n",
              " '2005',\n",
              " '20059',\n",
              " '2006',\n",
              " '2007',\n",
              " '2008',\n",
              " '2009',\n",
              " '200k',\n",
              " '200subs',\n",
              " '201',\n",
              " '2010',\n",
              " '2011',\n",
              " '2012',\n",
              " '2013',\n",
              " '2014',\n",
              " '2015',\n",
              " '2015on',\n",
              " '2016',\n",
              " '2017',\n",
              " '2018',\n",
              " '2019',\n",
              " '202',\n",
              " '2020',\n",
              " '2022',\n",
              " '2023',\n",
              " '205',\n",
              " '209',\n",
              " '20jhs',\n",
              " '20nnuzbbqx',\n",
              " '20th',\n",
              " '20thoctober2015',\n",
              " '20wheneverigraduate',\n",
              " '20yrs',\n",
              " '21',\n",
              " '213',\n",
              " '215',\n",
              " '216',\n",
              " '217',\n",
              " '218',\n",
              " '21b16143',\n",
              " '21st',\n",
              " '21yearsyoungbruh',\n",
              " '22',\n",
              " '22000',\n",
              " '220lbs',\n",
              " '2218',\n",
              " '2222',\n",
              " '224',\n",
              " '224uuyu7vq',\n",
              " '225',\n",
              " '229',\n",
              " '2294',\n",
              " '229e82fe',\n",
              " '22nd',\n",
              " '22yrs',\n",
              " '23',\n",
              " '231115',\n",
              " '234',\n",
              " '2348063502449',\n",
              " '2348067887523',\n",
              " '2348125802650',\n",
              " '2348127216654',\n",
              " '2348180978225',\n",
              " '239cm',\n",
              " '23m',\n",
              " '23yo',\n",
              " '24',\n",
              " '2401',\n",
              " '246',\n",
              " '247sports',\n",
              " '24_7official',\n",
              " '24ever',\n",
              " '24july',\n",
              " '24liveanotherday',\n",
              " '24th',\n",
              " '24x7',\n",
              " '24yrsyoung',\n",
              " '24¾__',\n",
              " '25',\n",
              " '252',\n",
              " '2538',\n",
              " '254',\n",
              " '25aa8455',\n",
              " '25anduptwitter',\n",
              " '25be616e',\n",
              " '25k',\n",
              " '25mins',\n",
              " '25th',\n",
              " '25yrs',\n",
              " '26',\n",
              " '2635',\n",
              " '265',\n",
              " '267',\n",
              " '26b32df8',\n",
              " '27',\n",
              " '271',\n",
              " '271373e0',\n",
              " '2720',\n",
              " '2743f418',\n",
              " '27846612873',\n",
              " '279c30dd',\n",
              " '27ent',\n",
              " '27th',\n",
              " '27triggerman',\n",
              " '28',\n",
              " '2803',\n",
              " '2835',\n",
              " '286',\n",
              " '289177',\n",
              " '28cd0050',\n",
              " '28k',\n",
              " '28th',\n",
              " '29',\n",
              " '291551',\n",
              " '2949',\n",
              " '296',\n",
              " '2a',\n",
              " '2a5fcf91',\n",
              " '2ad743b7',\n",
              " '2am',\n",
              " '2b',\n",
              " '2b16d6a4',\n",
              " '2b1yapubbx',\n",
              " '2b984e94',\n",
              " '2be4b814',\n",
              " '2be8f7ac',\n",
              " '2bvfnq3t0a',\n",
              " '2d8wtgqsf5',\n",
              " '2da',\n",
              " '2fanz',\n",
              " '2five',\n",
              " '2h0zf1qbfl',\n",
              " '2indeed',\n",
              " '2k',\n",
              " '2k16',\n",
              " '2k19',\n",
              " '2ktyx8qyvb',\n",
              " '2m',\n",
              " '2mar',\n",
              " '2maradio',\n",
              " '2nd',\n",
              " '2ndchancesbeliever',\n",
              " '2ompfvssno',\n",
              " '2p',\n",
              " '2pm',\n",
              " '2q11',\n",
              " '2ssfuelamv',\n",
              " '2sv0u28cu7',\n",
              " '2take',\n",
              " '2v7o3w8jap',\n",
              " '2vaq7qraey',\n",
              " '2vtyonb6cz',\n",
              " '2x',\n",
              " '2zngkuuhsm',\n",
              " '30',\n",
              " '300',\n",
              " '3000',\n",
              " '301',\n",
              " '302',\n",
              " '303',\n",
              " '3040',\n",
              " '305',\n",
              " '309',\n",
              " '30am',\n",
              " '30clip',\n",
              " '30p',\n",
              " '30pm',\n",
              " '30s',\n",
              " '30sec',\n",
              " '30stm',\n",
              " '30th',\n",
              " '30thseptemeber2015',\n",
              " '31',\n",
              " '310',\n",
              " '311',\n",
              " '312',\n",
              " '3131',\n",
              " '31450',\n",
              " '316',\n",
              " '317',\n",
              " '3188',\n",
              " '319',\n",
              " '3193',\n",
              " '3196',\n",
              " '31st',\n",
              " '32',\n",
              " '321',\n",
              " '323',\n",
              " '32pm',\n",
              " '32ryhwxi3i',\n",
              " '33',\n",
              " '330',\n",
              " '33139',\n",
              " '33160',\n",
              " '33172',\n",
              " '334',\n",
              " '3345',\n",
              " '3345live',\n",
              " '3357a19d',\n",
              " '336',\n",
              " '337',\n",
              " '33m',\n",
              " '33yrs',\n",
              " '34',\n",
              " '340',\n",
              " '3437',\n",
              " '347',\n",
              " '35',\n",
              " '3500',\n",
              " '3511',\n",
              " '352',\n",
              " '353',\n",
              " '355',\n",
              " '35613',\n",
              " '359',\n",
              " '36',\n",
              " '360',\n",
              " '365',\n",
              " '37',\n",
              " '37616',\n",
              " '3763',\n",
              " '379collective',\n",
              " '38',\n",
              " '3820',\n",
              " '3857114',\n",
              " '389212',\n",
              " '38k',\n",
              " '39',\n",
              " '395',\n",
              " '3a',\n",
              " '3aastatechamp',\n",
              " '3afzmedbpy',\n",
              " '3blades',\n",
              " '3d',\n",
              " '3ds',\n",
              " '3f5p8xpvhb',\n",
              " '3fm',\n",
              " '3gagqknqaw',\n",
              " '3gpfj4bp0e',\n",
              " '3gs',\n",
              " '3ivaihtwgu',\n",
              " '3l84qkdeio',\n",
              " '3lau',\n",
              " '3m',\n",
              " '3mill',\n",
              " '3mill_shod',\n",
              " '3mmi',\n",
              " '3mrdiab',\n",
              " '3ng3l',\n",
              " '3oj5zivzny',\n",
              " '3pm',\n",
              " '3pm_music',\n",
              " '3qck6cafns',\n",
              " '3qu',\n",
              " '3rd',\n",
              " '3rdleggreg',\n",
              " '3rpsugrprw',\n",
              " '3t94jvgyxo',\n",
              " '3tpqktgucz',\n",
              " '3x',\n",
              " '40',\n",
              " '400',\n",
              " '401k',\n",
              " '40203',\n",
              " '404',\n",
              " '405',\n",
              " '408',\n",
              " '4097283',\n",
              " '40billion',\n",
              " '40cfu7bkgg',\n",
              " '40iwk2yeg6',\n",
              " '40k',\n",
              " '40s',\n",
              " '40something',\n",
              " '40th',\n",
              " '41',\n",
              " '410',\n",
              " '417',\n",
              " '419',\n",
              " '419aw6urdi',\n",
              " '41from',\n",
              " '42',\n",
              " '420',\n",
              " '423',\n",
              " '4242',\n",
              " '43',\n",
              " '431',\n",
              " '4328tliufa',\n",
              " '4336',\n",
              " '438',\n",
              " '44',\n",
              " '440',\n",
              " '444',\n",
              " '4442',\n",
              " '4444',\n",
              " '447',\n",
              " '44b',\n",
              " '45',\n",
              " '450',\n",
              " '453',\n",
              " '4531522',\n",
              " '45am',\n",
              " '46',\n",
              " '4600',\n",
              " '4690',\n",
              " '47',\n",
              " '473',\n",
              " '4733',\n",
              " '477',\n",
              " '479',\n",
              " '4796',\n",
              " '47abc',\n",
              " '48',\n",
              " '480',\n",
              " '48219',\n",
              " '487',\n",
              " '48fams',\n",
              " '49',\n",
              " '497',\n",
              " '499',\n",
              " '49ers',\n",
              " '4a',\n",
              " '4am',\n",
              " '4ckakzrpwx',\n",
              " '4cne34vhti',\n",
              " '4cr',\n",
              " '4cradio',\n",
              " '4crew',\n",
              " '4d',\n",
              " '4daystilfocus',\n",
              " '4ever',\n",
              " '4evz',\n",
              " '4g',\n",
              " '4gbr40smkw',\n",
              " '4gwg3r4zhn',\n",
              " '4korna',\n",
              " '4l',\n",
              " '4minute',\n",
              " '4ngozvlxzf',\n",
              " '4nqkgytsrx',\n",
              " '4op',\n",
              " '4play',\n",
              " '4playpromo',\n",
              " '4pm',\n",
              " '4pmnbfuq5c',\n",
              " '4rwjfdidk3',\n",
              " '4s',\n",
              " '4segmtfexm',\n",
              " '4snhg25mua',\n",
              " '4socecocivilrsjustice',\n",
              " '4talent',\n",
              " '4th',\n",
              " '4thaccount',\n",
              " '4thecup',\n",
              " '4thewin',\n",
              " '4thward',\n",
              " '4urqbiprqw',\n",
              " '4w5',\n",
              " '4wh4rrt1tl',\n",
              " '4wordwomen',\n",
              " '4ye',\n",
              " '4ymtx0ucei',\n",
              " '4zckqzw1',\n",
              " '50',\n",
              " '500',\n",
              " '500px',\n",
              " '501',\n",
              " '501stlegion',\n",
              " '504',\n",
              " '505',\n",
              " '509',\n",
              " '509babes',\n",
              " '50shades',\n",
              " '50shadesofshe',\n",
              " '51',\n",
              " '510',\n",
              " '511',\n",
              " '5117',\n",
              " '513',\n",
              " '515',\n",
              " '5168',\n",
              " '517',\n",
              " '517252',\n",
              " '518',\n",
              " '5182',\n",
              " '519',\n",
              " '5199',\n",
              " '520',\n",
              " '527',\n",
              " '5277',\n",
              " '528canna',\n",
              " '528marketing',\n",
              " '5294',\n",
              " '52f60769',\n",
              " '52yjojmsdj',\n",
              " '530',\n",
              " '5300',\n",
              " '53113',\n",
              " '5346',\n",
              " '54',\n",
              " '543',\n",
              " '549',\n",
              " '55002',\n",
              " '5555555555',\n",
              " '556velxatf',\n",
              " '55731',\n",
              " '558ilyj6mw',\n",
              " '56',\n",
              " '5600',\n",
              " '5629207d',\n",
              " '56433ccc',\n",
              " '577',\n",
              " '579',\n",
              " '58',\n",
              " '580',\n",
              " '586',\n",
              " '58am',\n",
              " '59',\n",
              " '593',\n",
              " '59650',\n",
              " '5a',\n",
              " '5a9nq2oztq',\n",
              " '5am',\n",
              " '5b99bmr3na',\n",
              " '5c',\n",
              " '5club',\n",
              " '5dowstdxzc',\n",
              " '5egujevvbp',\n",
              " '5fdp',\n",
              " '5fm',\n",
              " '5fud2aqqmn',\n",
              " '5g',\n",
              " '5gvitvz7o8',\n",
              " '5h',\n",
              " '5hadownightlp',\n",
              " '5k',\n",
              " '5mcvampsosfallouttimelowswiftthetide',\n",
              " '5pm',\n",
              " '5qncpmry',\n",
              " '5s',\n",
              " '5sos',\n",
              " '5sosfam',\n",
              " '5sosfammeetup',\n",
              " '5sosnbs',\n",
              " '5th',\n",
              " '5thelementagency',\n",
              " '5vio4zij9t',\n",
              " '5vxx2gwhvp',\n",
              " '5x',\n",
              " '5yr',\n",
              " '5yrs',\n",
              " '5zwqsawfwl',\n",
              " '5å',\n",
              " '60',\n",
              " '600',\n",
              " '602',\n",
              " '605',\n",
              " '607',\n",
              " '609',\n",
              " '61',\n",
              " '610',\n",
              " '612',\n",
              " '612899',\n",
              " '612brew',\n",
              " '614',\n",
              " '6145316895',\n",
              " '615',\n",
              " '615bishop',\n",
              " '617',\n",
              " '618',\n",
              " '618713',\n",
              " '619',\n",
              " '62',\n",
              " '620',\n",
              " '620am',\n",
              " '621',\n",
              " '626',\n",
              " '63',\n",
              " '630',\n",
              " '631',\n",
              " '633',\n",
              " '6351',\n",
              " '6397',\n",
              " '64',\n",
              " '640',\n",
              " '641',\n",
              " '645',\n",
              " '646',\n",
              " '64cfotenkh',\n",
              " '65',\n",
              " '6545',\n",
              " '655',\n",
              " '658',\n",
              " '660news',\n",
              " '662',\n",
              " '664',\n",
              " '6657',\n",
              " '666',\n",
              " '669',\n",
              " '67',\n",
              " '670238',\n",
              " '67kwmvf2xs',\n",
              " '680',\n",
              " '6812',\n",
              " '685',\n",
              " '68yrs',\n",
              " '69',\n",
              " '696',\n",
              " '69k',\n",
              " '6a',\n",
              " '6bhtbbwrrm',\n",
              " '6by8ii33ah',\n",
              " '6cdrwtv2h3',\n",
              " '6clg6urulu',\n",
              " '6d7horqldx',\n",
              " '6ebogxhl0r',\n",
              " '6equj5',\n",
              " '6fbshce9fz',\n",
              " '6g1m33v3xt',\n",
              " '6ix',\n",
              " '6jksk4av2a',\n",
              " '6k',\n",
              " '6llwwr9n8h',\n",
              " '6lsqpuemie',\n",
              " '6lzw8wugzq',\n",
              " '6ohh',\n",
              " '6p',\n",
              " '6p6rvuplp4',\n",
              " '6phfsfovks',\n",
              " '6pm',\n",
              " '6qdb5qjwxd',\n",
              " '6s',\n",
              " '6s5ikjoywq',\n",
              " '6teen',\n",
              " '6th',\n",
              " '6v6d6cisrl',\n",
              " '6x6uand9ke',\n",
              " '6xd5c95a75',\n",
              " '6yauxtye9n',\n",
              " '6zldxsqclb',\n",
              " '70',\n",
              " '700',\n",
              " '70070',\n",
              " '702',\n",
              " '704',\n",
              " '706',\n",
              " '708',\n",
              " '71000',\n",
              " '716',\n",
              " '717',\n",
              " '72',\n",
              " '720',\n",
              " '72hours',\n",
              " '73',\n",
              " '731',\n",
              " '732',\n",
              " '734',\n",
              " '735',\n",
              " '74',\n",
              " '740',\n",
              " '748d9f5b',\n",
              " '750',\n",
              " '7501',\n",
              " '756',\n",
              " '75607646',\n",
              " '757',\n",
              " '757aa10c',\n",
              " '757va',\n",
              " '758',\n",
              " '75anniversary',\n",
              " '75decgun2b',\n",
              " '75th',\n",
              " '76',\n",
              " '761',\n",
              " '765',\n",
              " '7663',\n",
              " '76ers',\n",
              " '772',\n",
              " '773',\n",
              " '7760',\n",
              " '780',\n",
              " '784',\n",
              " '786',\n",
              " '786777',\n",
              " '7878',\n",
              " '7879',\n",
              " '7880',\n",
              " '7888',\n",
              " '790',\n",
              " '791',\n",
              " '7958',\n",
              " '7a',\n",
              " '7a336fd5',\n",
              " '7ab2582f',\n",
              " '7aibawwawc',\n",
              " '7am',\n",
              " '7b7103ff',\n",
              " '7baiwoow3o',\n",
              " '7f65821c',\n",
              " '7fm',\n",
              " '7h2saekre4',\n",
              " '7h3ngijl1s',\n",
              " '7hmsjmnbc3',\n",
              " '7is4fjlf1r',\n",
              " '7iviksg0z5',\n",
              " '7k',\n",
              " '7p',\n",
              " '7pm',\n",
              " '7qi5r8hjsr',\n",
              " '7qlcvrifrp',\n",
              " '7qy9ap2xwb',\n",
              " '7th',\n",
              " '7ugqh9cvpv',\n",
              " '7yhvwdttes',\n",
              " '7zih6udb',\n",
              " '80',\n",
              " '800',\n",
              " '801',\n",
              " '8021',\n",
              " '804',\n",
              " '805',\n",
              " '80s',\n",
              " '812',\n",
              " '8123',\n",
              " '81395',\n",
              " '813god',\n",
              " '816',\n",
              " '8180',\n",
              " '819690',\n",
              " '81tree',\n",
              " '824988',\n",
              " '8257',\n",
              " '826',\n",
              " '83',\n",
              " '831',\n",
              " '8339',\n",
              " '84',\n",
              " '8400',\n",
              " '844',\n",
              " '85',\n",
              " '850',\n",
              " '8518',\n",
              " '8524',\n",
              " '855',\n",
              " '856',\n",
              " '85jyeahvw6',\n",
              " '86',\n",
              " '866',\n",
              " '86th',\n",
              " '87',\n",
              " '870',\n",
              " '877',\n",
              " '88',\n",
              " '880',\n",
              " '8822',\n",
              " '886',\n",
              " '8870',\n",
              " '888',\n",
              " '88todburfu',\n",
              " '89',\n",
              " '895',\n",
              " '8962',\n",
              " '8am',\n",
              " '8befvpx4pw',\n",
              " '8e0w0qzsc4',\n",
              " '8followers',\n",
              " '8gveoz3mvd',\n",
              " '8i29y6gzen',\n",
              " '8iix9af1ku',\n",
              " '8k',\n",
              " '8ldydfmfax',\n",
              " '8m0qgtbwoh',\n",
              " '8pm',\n",
              " '8pzf14mfwx',\n",
              " '8syflcxbr0',\n",
              " '8teen',\n",
              " '8th',\n",
              " '8va9gjoebf',\n",
              " '8x',\n",
              " ...]"
            ]
          },
          "metadata": {
            "tags": []
          },
          "execution_count": 32
        }
      ]
    },
    {
      "cell_type": "code",
      "metadata": {
        "id": "Ttq1DIjicUA8"
      },
      "source": [
        "x_train, x_test, y_train, y_test = train_test_split(x, y,test_size=0.2,)"
      ],
      "execution_count": null,
      "outputs": []
    },
    {
      "cell_type": "markdown",
      "metadata": {
        "id": "zWtcPMgxcUA-"
      },
      "source": [
        "### Naive Baye's"
      ]
    },
    {
      "cell_type": "code",
      "metadata": {
        "id": "ae63e1H5cUA_"
      },
      "source": [
        "nb = MultinomialNB()"
      ],
      "execution_count": null,
      "outputs": []
    },
    {
      "cell_type": "code",
      "metadata": {
        "id": "hJmJ7I-ecUBA",
        "outputId": "3b715b92-3cae-42a0-b85f-9c45aac9cc08"
      },
      "source": [
        "nb.fit(x_train,y_train)"
      ],
      "execution_count": null,
      "outputs": [
        {
          "output_type": "execute_result",
          "data": {
            "text/plain": [
              "MultinomialNB(alpha=1.0, class_prior=None, fit_prior=True)"
            ]
          },
          "metadata": {
            "tags": []
          },
          "execution_count": 35
        }
      ]
    },
    {
      "cell_type": "code",
      "metadata": {
        "id": "nngoxHdfcUBD",
        "outputId": "c0ee214f-9a2d-4074-9912-98efd822d848"
      },
      "source": [
        "nb_accuracy = nb.score(x_test,y_test)\n",
        "nb_accuracy"
      ],
      "execution_count": null,
      "outputs": [
        {
          "output_type": "execute_result",
          "data": {
            "text/plain": [
              "0.6836518046709129"
            ]
          },
          "metadata": {
            "tags": []
          },
          "execution_count": 36
        }
      ]
    },
    {
      "cell_type": "markdown",
      "metadata": {
        "id": "alx_yAxAcUBE"
      },
      "source": [
        "### Logistic Regression"
      ]
    },
    {
      "cell_type": "code",
      "metadata": {
        "id": "a85uv8AWcUBF"
      },
      "source": [
        "from sklearn.linear_model import LogisticRegression"
      ],
      "execution_count": null,
      "outputs": []
    },
    {
      "cell_type": "code",
      "metadata": {
        "id": "Orn-M99HcUBH"
      },
      "source": [
        "lg  = LogisticRegression()"
      ],
      "execution_count": null,
      "outputs": []
    },
    {
      "cell_type": "code",
      "metadata": {
        "id": "5bpvs1GScUBJ",
        "outputId": "251f3f62-41bf-44d9-9d6e-016b188b524b"
      },
      "source": [
        "lg.fit(x_train,y_train)"
      ],
      "execution_count": null,
      "outputs": [
        {
          "output_type": "stream",
          "text": [
            "C:\\Users\\Sainath\\Anaconda3\\lib\\site-packages\\sklearn\\linear_model\\logistic.py:432: FutureWarning: Default solver will be changed to 'lbfgs' in 0.22. Specify a solver to silence this warning.\n",
            "  FutureWarning)\n",
            "C:\\Users\\Sainath\\Anaconda3\\lib\\site-packages\\sklearn\\linear_model\\logistic.py:469: FutureWarning: Default multi_class will be changed to 'auto' in 0.22. Specify the multi_class option to silence this warning.\n",
            "  \"this warning.\", FutureWarning)\n"
          ],
          "name": "stderr"
        },
        {
          "output_type": "execute_result",
          "data": {
            "text/plain": [
              "LogisticRegression(C=1.0, class_weight=None, dual=False, fit_intercept=True,\n",
              "                   intercept_scaling=1, l1_ratio=None, max_iter=100,\n",
              "                   multi_class='warn', n_jobs=None, penalty='l2',\n",
              "                   random_state=None, solver='warn', tol=0.0001, verbose=0,\n",
              "                   warm_start=False)"
            ]
          },
          "metadata": {
            "tags": []
          },
          "execution_count": 39
        }
      ]
    },
    {
      "cell_type": "code",
      "metadata": {
        "id": "5qqPbcZ4cUBL"
      },
      "source": [
        "lr_predicted = lg.predict(x_test)"
      ],
      "execution_count": null,
      "outputs": []
    },
    {
      "cell_type": "code",
      "metadata": {
        "id": "jnnzAtcucUBN",
        "outputId": "43f3d1bc-db0d-4c05-a9b3-cb6e67d8d8bf"
      },
      "source": [
        "from sklearn.metrics import accuracy_score\n",
        "lr_accuracy = accuracy_score(y_test,lr_predicted)\n",
        "lr_accuracy"
      ],
      "execution_count": null,
      "outputs": [
        {
          "output_type": "execute_result",
          "data": {
            "text/plain": [
              "0.6760084925690021"
            ]
          },
          "metadata": {
            "tags": []
          },
          "execution_count": 41
        }
      ]
    },
    {
      "cell_type": "markdown",
      "metadata": {
        "id": "10IySbQucUBP"
      },
      "source": [
        "### Random Forest"
      ]
    },
    {
      "cell_type": "code",
      "metadata": {
        "id": "x5YogFAtcUBQ"
      },
      "source": [
        "from sklearn.ensemble import RandomForestClassifier"
      ],
      "execution_count": null,
      "outputs": []
    },
    {
      "cell_type": "code",
      "metadata": {
        "id": "KksK0B2ucUBU"
      },
      "source": [
        "rf = RandomForestClassifier()"
      ],
      "execution_count": null,
      "outputs": []
    },
    {
      "cell_type": "code",
      "metadata": {
        "id": "bCV4odIncUBW",
        "outputId": "c16ebc02-83b3-448b-ed06-813b5cddab9c"
      },
      "source": [
        "rf.fit(x_train,y_train)"
      ],
      "execution_count": null,
      "outputs": [
        {
          "output_type": "stream",
          "text": [
            "C:\\Users\\Sainath\\Anaconda3\\lib\\site-packages\\sklearn\\ensemble\\forest.py:245: FutureWarning: The default value of n_estimators will change from 10 in version 0.20 to 100 in 0.22.\n",
            "  \"10 in version 0.20 to 100 in 0.22.\", FutureWarning)\n"
          ],
          "name": "stderr"
        },
        {
          "output_type": "execute_result",
          "data": {
            "text/plain": [
              "RandomForestClassifier(bootstrap=True, class_weight=None, criterion='gini',\n",
              "                       max_depth=None, max_features='auto', max_leaf_nodes=None,\n",
              "                       min_impurity_decrease=0.0, min_impurity_split=None,\n",
              "                       min_samples_leaf=1, min_samples_split=2,\n",
              "                       min_weight_fraction_leaf=0.0, n_estimators=10,\n",
              "                       n_jobs=None, oob_score=False, random_state=None,\n",
              "                       verbose=0, warm_start=False)"
            ]
          },
          "metadata": {
            "tags": []
          },
          "execution_count": 44
        }
      ]
    },
    {
      "cell_type": "code",
      "metadata": {
        "id": "Jao3qBmbcUBY",
        "outputId": "599a66c4-53f8-47f2-acad-6d23f9ee211f"
      },
      "source": [
        "rf_accuracy = rf.score(x_test,y_test)\n",
        "rf_accuracy"
      ],
      "execution_count": null,
      "outputs": [
        {
          "output_type": "execute_result",
          "data": {
            "text/plain": [
              "0.5966029723991507"
            ]
          },
          "metadata": {
            "tags": []
          },
          "execution_count": 45
        }
      ]
    },
    {
      "cell_type": "markdown",
      "metadata": {
        "id": "G3LUVOKHcUBa"
      },
      "source": [
        "### Ensemble Learning"
      ]
    },
    {
      "cell_type": "code",
      "metadata": {
        "id": "cDO4R3X3cUBa"
      },
      "source": [
        "from sklearn.ensemble import VotingClassifier"
      ],
      "execution_count": null,
      "outputs": []
    },
    {
      "cell_type": "code",
      "metadata": {
        "id": "-R1_i8AzcUBd"
      },
      "source": [
        "model = VotingClassifier(estimators=[('nb', nb), ('lr', lg), ('rf' , rf)], voting='hard')# generating the majority vote count "
      ],
      "execution_count": null,
      "outputs": []
    },
    {
      "cell_type": "code",
      "metadata": {
        "id": "1BUyX7S5cUBf",
        "outputId": "51506d36-dffa-43a4-d004-3cb03ecb4970"
      },
      "source": [
        "model.fit(x_train,y_train)"
      ],
      "execution_count": null,
      "outputs": [
        {
          "output_type": "stream",
          "text": [
            "C:\\Users\\Sainath\\Anaconda3\\lib\\site-packages\\sklearn\\linear_model\\logistic.py:432: FutureWarning: Default solver will be changed to 'lbfgs' in 0.22. Specify a solver to silence this warning.\n",
            "  FutureWarning)\n",
            "C:\\Users\\Sainath\\Anaconda3\\lib\\site-packages\\sklearn\\linear_model\\logistic.py:469: FutureWarning: Default multi_class will be changed to 'auto' in 0.22. Specify the multi_class option to silence this warning.\n",
            "  \"this warning.\", FutureWarning)\n"
          ],
          "name": "stderr"
        },
        {
          "output_type": "execute_result",
          "data": {
            "text/plain": [
              "VotingClassifier(estimators=[('nb',\n",
              "                              MultinomialNB(alpha=1.0, class_prior=None,\n",
              "                                            fit_prior=True)),\n",
              "                             ('lr',\n",
              "                              LogisticRegression(C=1.0, class_weight=None,\n",
              "                                                 dual=False, fit_intercept=True,\n",
              "                                                 intercept_scaling=1,\n",
              "                                                 l1_ratio=None, max_iter=100,\n",
              "                                                 multi_class='warn',\n",
              "                                                 n_jobs=None, penalty='l2',\n",
              "                                                 random_state=None,\n",
              "                                                 solver='warn', tol=0.0001,\n",
              "                                                 verbose=0, warm_start=False)),\n",
              "                             ('rf',\n",
              "                              RandomFor...\n",
              "                                                     class_weight=None,\n",
              "                                                     criterion='gini',\n",
              "                                                     max_depth=None,\n",
              "                                                     max_features='auto',\n",
              "                                                     max_leaf_nodes=None,\n",
              "                                                     min_impurity_decrease=0.0,\n",
              "                                                     min_impurity_split=None,\n",
              "                                                     min_samples_leaf=1,\n",
              "                                                     min_samples_split=2,\n",
              "                                                     min_weight_fraction_leaf=0.0,\n",
              "                                                     n_estimators=10,\n",
              "                                                     n_jobs=None,\n",
              "                                                     oob_score=False,\n",
              "                                                     random_state=None,\n",
              "                                                     verbose=0,\n",
              "                                                     warm_start=False))],\n",
              "                 flatten_transform=True, n_jobs=None, voting='hard',\n",
              "                 weights=None)"
            ]
          },
          "metadata": {
            "tags": []
          },
          "execution_count": 48
        }
      ]
    },
    {
      "cell_type": "code",
      "metadata": {
        "id": "NSmvvmBYcUBh",
        "outputId": "da00f11a-a102-467d-e010-5d3674637999"
      },
      "source": [
        "model.score(x_test,y_test)"
      ],
      "execution_count": null,
      "outputs": [
        {
          "output_type": "execute_result",
          "data": {
            "text/plain": [
              "0.6857749469214437"
            ]
          },
          "metadata": {
            "tags": []
          },
          "execution_count": 49
        }
      ]
    },
    {
      "cell_type": "code",
      "metadata": {
        "id": "rAvYyxEgcUBk"
      },
      "source": [
        "results = pd.Series([lr_accuracy, nb_accuracy , rf_accuracy],\n",
        "                    index = [\"logit\", \"naiveb\", \"randomf\"])"
      ],
      "execution_count": null,
      "outputs": []
    },
    {
      "cell_type": "code",
      "metadata": {
        "id": "Autc2we2cUBn",
        "outputId": "10f5d855-a884-439e-c5d5-442e1c50e51c"
      },
      "source": [
        "results.plot(kind = 'bar' ,title = 'Model Accuracy')"
      ],
      "execution_count": null,
      "outputs": [
        {
          "output_type": "execute_result",
          "data": {
            "text/plain": [
              "<matplotlib.axes._subplots.AxesSubplot at 0x1fc7d27f848>"
            ]
          },
          "metadata": {
            "tags": []
          },
          "execution_count": 51
        },
        {
          "output_type": "display_data",
          "data": {
            "image/png": "[encoded data removed]",
            "text/plain": [
              "<Figure size 432x288 with 1 Axes>"
            ]
          },
          "metadata": {
            "tags": [],
            "needs_background": "light"
          }
        }
      ]
    },
    {
      "cell_type": "markdown",
      "metadata": {
        "id": "Lz4od8sScUBo"
      },
      "source": [
        "## Conclusion"
      ]
    },
    {
      "cell_type": "markdown",
      "metadata": {
        "id": "BB5r_SdscUBo"
      },
      "source": [
        "> First We cleaned the data, then dropped all the null values from the dataset. We have considered only those rows whose gender confidence is one, then we dropped the rows where gender is unknown and dropped the unused data. We have defined functions for removing punctuations from text and description using a regular expression. We remove the stop words from the dataset. We have performed many tasks and got the solutions for the questions asked. Then we compared the three machine learning algorithms and found the algorithm with maximum accuracy to be the Naive Bayes Algorithm . \n",
        "\n",
        "> This project helped us to learn more about ensemble learning and different machine learning algorithms. It also helped in exploring Natural Language Processing. It helped us understand the  use of NumPy, panda, Sckit learning, and various other python libraries . "
      ]
    },
    {
      "cell_type": "markdown",
      "metadata": {
        "id": "464Uu8zncUBp"
      },
      "source": [
        "## Submitted By:"
      ]
    },
    {
      "cell_type": "markdown",
      "metadata": {
        "id": "h-Fn3MblcUBp"
      },
      "source": [
        "- #### Name : Syed Ishtiyaq Ahmed\n",
        "- #### E-Mail : syedishahmed99@gmail.com\n",
        "- #### College : Amrita School Of Engineering , Amrita Vishwa Vidyapeetham , Coimbatore\n",
        "- #### Classroom- Id : ML052B6"
      ]
    },
    {
      "cell_type": "markdown",
      "metadata": {
        "id": "_6gtu9j6cUBp"
      },
      "source": [
        "## Thank You"
      ]
    }
  ]
}